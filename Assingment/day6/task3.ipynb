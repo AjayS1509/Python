{
 "cells": [
  {
   "cell_type": "raw",
   "id": "0353cd88-6ec8-41b1-beac-000629a0bdfa",
   "metadata": {},
   "source": [
    "3. Write a NumPy program to convert Pandas dataframe to Numpy array with headers."
   ]
  },
  {
   "cell_type": "code",
   "execution_count": 1,
   "id": "b5555cc3-7828-483e-a369-eed9c5771ba8",
   "metadata": {},
   "outputs": [],
   "source": [
    "import pandas as pd\n",
    "import numpy as np"
   ]
  },
  {
   "cell_type": "code",
   "execution_count": 2,
   "id": "f9a6fa7b-8079-4e78-a616-7c27fb3cce13",
   "metadata": {},
   "outputs": [],
   "source": [
    "def dataframe_to_np(data_frame):\n",
    "    header = data_frame.columns\n",
    "    np_array = data_frame.to_numpy()\n",
    "    res = np.insert(np_array,0,header,axis = 0)\n",
    "    return res"
   ]
  },
  {
   "cell_type": "code",
   "execution_count": 3,
   "id": "5b997ecb-5581-4008-af7f-02f21327593e",
   "metadata": {},
   "outputs": [],
   "source": [
    "import pandas as pd\n",
    "\n",
    "data = {\n",
    "    'Name': ['Liam', 'Olivia', 'Noah', 'Ava', 'Sophia'],\n",
    "    'Age': [27, 23, 31, 26, 29],\n",
    "    'City': ['Miami', 'Dallas', 'Phoenix', 'Atlanta', 'San Diego']\n",
    "}\n",
    "\n",
    "df = pd.DataFrame(data)"
   ]
  },
  {
   "cell_type": "code",
   "execution_count": 4,
   "id": "8418c01e-fce7-4b2b-b5e0-bcefb5efd7cf",
   "metadata": {},
   "outputs": [
    {
     "data": {
      "text/plain": [
       "array([['Name', 'Age', 'City'],\n",
       "       ['Liam', 27, 'Miami'],\n",
       "       ['Olivia', 23, 'Dallas'],\n",
       "       ['Noah', 31, 'Phoenix'],\n",
       "       ['Ava', 26, 'Atlanta'],\n",
       "       ['Sophia', 29, 'San Diego']], dtype=object)"
      ]
     },
     "execution_count": 4,
     "metadata": {},
     "output_type": "execute_result"
    }
   ],
   "source": [
    "res = dataframe_to_np(df)\n",
    "res"
   ]
  }
 ],
 "metadata": {
  "kernelspec": {
   "display_name": "Python [conda env:base] *",
   "language": "python",
   "name": "conda-base-py"
  },
  "language_info": {
   "codemirror_mode": {
    "name": "ipython",
    "version": 3
   },
   "file_extension": ".py",
   "mimetype": "text/x-python",
   "name": "python",
   "nbconvert_exporter": "python",
   "pygments_lexer": "ipython3",
   "version": "3.12.7"
  }
 },
 "nbformat": 4,
 "nbformat_minor": 5
}
